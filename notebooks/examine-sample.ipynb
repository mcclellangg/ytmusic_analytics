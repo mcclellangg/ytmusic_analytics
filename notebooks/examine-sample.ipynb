{
 "cells": [
  {
   "cell_type": "markdown",
   "id": "54f76692",
   "metadata": {},
   "source": [
    "# Sample Notebook\n",
    "This notebook demonstrates how to use `python` and `duckdb` to execute basic sql queries on a sample csv dataset.\n",
    "\n",
    "## Resources\n",
    "- [DuckDB Docs - Python API](https://duckdb.org/docs/stable/clients/python/overview.html)\n",
    "- [GitHub - sample-csv-files](https://github.com/datablist/sample-csv-files?tab=readme-ov-file)"
   ]
  },
  {
   "cell_type": "code",
   "execution_count": null,
   "id": "b88c149e",
   "metadata": {},
   "outputs": [],
   "source": [
    "import duckdb\n",
    "import os"
   ]
  },
  {
   "cell_type": "code",
   "execution_count": null,
   "id": "78eec84b",
   "metadata": {},
   "outputs": [],
   "source": [
    "SAMPLE_FILEPATH = os.getenv(\"SAMPLE_FILEPATH\", \"/workspaces/ytmusic_analytics/data/customers-10000.csv\")\n",
    "print(SAMPLE_FILEPATH)"
   ]
  },
  {
   "cell_type": "code",
   "execution_count": null,
   "id": "d0703eed",
   "metadata": {},
   "outputs": [],
   "source": [
    "data = duckdb.read_csv(SAMPLE_FILEPATH)"
   ]
  },
  {
   "cell_type": "code",
   "execution_count": null,
   "id": "31967565",
   "metadata": {},
   "outputs": [],
   "source": [
    "data.describe()"
   ]
  },
  {
   "cell_type": "code",
   "execution_count": null,
   "id": "0338e538",
   "metadata": {},
   "outputs": [],
   "source": [
    "query = \"\"\"\n",
    "SELECT *\n",
    "FROM data\n",
    "LIMIT 10\n",
    "\"\"\"\n",
    "\n",
    "r = duckdb.sql(query)\n",
    "r.show()"
   ]
  }
 ],
 "metadata": {
  "kernelspec": {
   "display_name": "Python 3",
   "language": "python",
   "name": "python3"
  },
  "language_info": {
   "codemirror_mode": {
    "name": "ipython",
    "version": 3
   },
   "file_extension": ".py",
   "mimetype": "text/x-python",
   "name": "python",
   "nbconvert_exporter": "python",
   "pygments_lexer": "ipython3",
   "version": "3.13.3"
  }
 },
 "nbformat": 4,
 "nbformat_minor": 5
}
