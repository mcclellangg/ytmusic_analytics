{
 "cells": [
  {
   "cell_type": "markdown",
   "id": "54f76692",
   "metadata": {},
   "source": [
    "# Sample Notebook\n",
    "This notebook demonstrates how to use `python` and `duckdb` to execute basic sql queries on a sample csv dataset.\n",
    "\n",
    "## Resources\n",
    "- [DuckDB Docs - Python API](https://duckdb.org/docs/stable/clients/python/overview.html)\n",
    "- [GitHub - sample-csv-files](https://github.com/datablist/sample-csv-files?tab=readme-ov-file)"
   ]
  },
  {
   "cell_type": "code",
   "execution_count": 5,
   "id": "b88c149e",
   "metadata": {},
   "outputs": [],
   "source": [
    "import duckdb\n",
    "import os"
   ]
  },
  {
   "cell_type": "code",
   "execution_count": 6,
   "id": "78eec84b",
   "metadata": {},
   "outputs": [
    {
     "name": "stdout",
     "output_type": "stream",
     "text": [
      "/workspaces/ytmusic_analytics/data/customers-10000.csv\n"
     ]
    }
   ],
   "source": [
    "SAMPLE_FILEPATH = os.getenv(\"SAMPLE_FILEPATH\", \"/workspaces/ytmusic_analytics/data/customers-10000.csv\")\n",
    "print(SAMPLE_FILEPATH)"
   ]
  },
  {
   "cell_type": "code",
   "execution_count": 7,
   "id": "d0703eed",
   "metadata": {},
   "outputs": [],
   "source": [
    "data = duckdb.read_csv(SAMPLE_FILEPATH)"
   ]
  },
  {
   "cell_type": "code",
   "execution_count": 8,
   "id": "31967565",
   "metadata": {},
   "outputs": [
    {
     "data": {
      "text/plain": [
       "┌─────────┬────────────────────┬─────────────────┬────────────┬───────────┬──────────────┬─────────────┬─────────────┬───────────────┬───────────────┬───────────────────────────────────┬───────────────────┬────────────────────────────┐\n",
       "│  aggr   │       Index        │   Customer Id   │ First Name │ Last Name │   Company    │    City     │   Country   │    Phone 1    │    Phone 2    │               Email               │ Subscription Date │          Website           │\n",
       "│ varchar │       double       │     varchar     │  varchar   │  varchar  │   varchar    │   varchar   │   varchar   │    varchar    │    varchar    │              varchar              │      varchar      │          varchar           │\n",
       "├─────────┼────────────────────┼─────────────────┼────────────┼───────────┼──────────────┼─────────────┼─────────────┼───────────────┼───────────────┼───────────────────────────────────┼───────────────────┼────────────────────────────┤\n",
       "│ count   │            10000.0 │ 10000           │ 10000      │ 10000     │ 10000        │ 10000       │ 10000       │ 10000         │ 10000         │ 10000                             │ 10000             │ 10000                      │\n",
       "│ mean    │             5000.5 │ NULL            │ NULL       │ NULL      │ NULL         │ NULL        │ NULL        │ NULL          │ NULL          │ NULL                              │ NULL              │ NULL                       │\n",
       "│ stddev  │ 2886.8956799071675 │ NULL            │ NULL       │ NULL      │ NULL         │ NULL        │ NULL        │ NULL          │ NULL          │ NULL                              │ NULL              │ NULL                       │\n",
       "│ min     │                1.0 │ 001a6f4c119F47f │ Aaron      │ Abbott    │ Abbott Group │ Aaronstad   │ Afghanistan │ (000)447-8524 │ (000)421-2029 │ aalvarez@mcclain-mcpherson.com    │ 2020-01-01        │ http://abbott-dunn.com/    │\n",
       "│ max     │            10000.0 │ fffE7bDd1e6F4fd │ Zoe        │ Zuniga    │ Zuniga-Lynch │ Zunigamouth │ Zimbabwe    │ 9998282143    │ 9994159714    │ zwoodward@petersen-mclaughlin.com │ 2022-05-29        │ https://zuniga-ritter.com/ │\n",
       "│ median  │             5000.5 │ NULL            │ NULL       │ NULL      │ NULL         │ NULL        │ NULL        │ NULL          │ NULL          │ NULL                              │ NULL              │ NULL                       │\n",
       "└─────────┴────────────────────┴─────────────────┴────────────┴───────────┴──────────────┴─────────────┴─────────────┴───────────────┴───────────────┴───────────────────────────────────┴───────────────────┴────────────────────────────┘"
      ]
     },
     "execution_count": 8,
     "metadata": {},
     "output_type": "execute_result"
    }
   ],
   "source": [
    "data.describe()"
   ]
  },
  {
   "cell_type": "code",
   "execution_count": 9,
   "id": "0338e538",
   "metadata": {},
   "outputs": [
    {
     "name": "stdout",
     "output_type": "stream",
     "text": [
      "┌───────┬─────────────────┬────────────┬───────────┬─────────────────────────────┬────────────────────┬─────────────────────────────┬───────────────────────┬─────────────────────┬──────────────────────────────────┬───────────────────┬───────────────────────────────┐\n",
      "│ Index │   Customer Id   │ First Name │ Last Name │           Company           │        City        │           Country           │        Phone 1        │       Phone 2       │              Email               │ Subscription Date │            Website            │\n",
      "│ int64 │     varchar     │  varchar   │  varchar  │           varchar           │      varchar       │           varchar           │        varchar        │       varchar       │             varchar              │       date        │            varchar            │\n",
      "├───────┼─────────────────┼────────────┼───────────┼─────────────────────────────┼────────────────────┼─────────────────────────────┼───────────────────────┼─────────────────────┼──────────────────────────────────┼───────────────────┼───────────────────────────────┤\n",
      "│     1 │ EB54EF1154C3A78 │ Heather    │ Callahan  │ Mosley-David                │ Lake Jeffborough   │ Norway                      │ 043-797-5229          │ 915.112.1727        │ urangel@espinoza-francis.net     │ 2020-08-26        │ http://www.escobar.org/       │\n",
      "│     2 │ 10dAcafEBbA5FcA │ Kristina   │ Ferrell   │ Horn, Shepard and Watson    │ Aaronville         │ Andorra                     │ 932-062-1802          │ (209)172-7124x3651  │ xreese@hall-donovan.com          │ 2020-04-27        │ https://tyler-pugh.info/      │\n",
      "│     3 │ 67DAB15Ebe4BE4a │ Briana     │ Andersen  │ Irwin-Oneal                 │ East Jordan        │ Nepal                       │ 8352752061            │ (567)135-1918       │ haleybraun@blevins-sexton.com    │ 2022-03-22        │ https://www.mack-bell.net/    │\n",
      "│     4 │ 6d350C5E5eDB4EE │ Patty      │ Ponce     │ Richardson Group            │ East Kristintown   │ Northern Mariana Islands    │ 302.398.3833          │ 196-189-7767x770    │ hohailey@anthony.com             │ 2020-07-02        │ https://delacruz-freeman.org/ │\n",
      "│     5 │ 5820deAdCF23EFe │ Kathleen   │ Mccormick │ Carson-Burch                │ Andresmouth        │ Macao                       │ 001-184-153-9683x1497 │ 552.051.2979x342    │ alvaradojesse@rangel-shields.com │ 2021-01-17        │ https://welch.info/           │\n",
      "│     6 │ E1CDEaC63fDd5aA │ Trevor     │ Lee       │ Maddox Group                │ Lake Madelineburgh │ Senegal                     │ +1-134-348-0265x9132  │ +1-313-882-4167     │ briangriffin@chang.org           │ 2021-08-13        │ https://www.roberts.com/      │\n",
      "│     7 │ 3e1187fCcebC8d2 │ Mathew     │ Hoffman   │ Bender, Pittman and Kidd    │ West Ralph         │ Uzbekistan                  │ 842.380.1168          │ (178)178-5447x32603 │ bauergerald@morrison.com         │ 2020-04-09        │ http://www.holt.com/          │\n",
      "│     8 │ 47C5cEE243c9A7b │ Glenn      │ Wiggins   │ Glenn-Harvey                │ Ambershire         │ Falkland Islands (Malvinas) │ 245-207-5608x563      │ 8806867785          │ changkellie@howell.com           │ 2021-04-02        │ http://carlson.com/           │\n",
      "│     9 │ cacaD68a5e4BF4b │ Bruce      │ Payne     │ Arroyo, Cain and Hudson     │ Barrettview        │ Zimbabwe                    │ 391.313.4649x42910    │ 166.227.5055        │ mayerjerome@hurst-graham.net     │ 2020-11-26        │ https://www.glenn-snow.com/   │\n",
      "│    10 │ 436b9c41cfb1fa3 │ Brendan    │ Franco    │ Schaefer, Blair and Shaffer │ New Rickey         │ Ukraine                     │ 001-315-224-3556      │ 254-621-7128x7573   │ kentryan@stone-oneill.com        │ 2021-06-29        │ http://ruiz.com/              │\n",
      "├───────┴─────────────────┴────────────┴───────────┴─────────────────────────────┴────────────────────┴─────────────────────────────┴───────────────────────┴─────────────────────┴──────────────────────────────────┴───────────────────┴───────────────────────────────┤\n",
      "│ 10 rows                                                                                                                                                                                                                                                     12 columns │\n",
      "└────────────────────────────────────────────────────────────────────────────────────────────────────────────────────────────────────────────────────────────────────────────────────────────────────────────────────────────────────────────────────────────────────────┘\n",
      "\n"
     ]
    }
   ],
   "source": [
    "query = \"\"\"\n",
    "SELECT *\n",
    "FROM data\n",
    "LIMIT 10\n",
    "\"\"\"\n",
    "\n",
    "r = duckdb.sql(query)\n",
    "r.show()"
   ]
  }
 ],
 "metadata": {
  "kernelspec": {
   "display_name": "Python 3",
   "language": "python",
   "name": "python3"
  },
  "language_info": {
   "codemirror_mode": {
    "name": "ipython",
    "version": 3
   },
   "file_extension": ".py",
   "mimetype": "text/x-python",
   "name": "python",
   "nbconvert_exporter": "python",
   "pygments_lexer": "ipython3",
   "version": "3.11.12"
  }
 },
 "nbformat": 4,
 "nbformat_minor": 5
}
