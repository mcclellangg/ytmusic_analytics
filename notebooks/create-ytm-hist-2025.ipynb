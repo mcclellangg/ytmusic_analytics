{
 "cells": [
  {
   "cell_type": "code",
   "execution_count": 38,
   "id": "c3548b13",
   "metadata": {},
   "outputs": [],
   "source": [
    "import duckdb\n",
    "\n",
    "# Ensure data has been added to expected directory as per README instructions\n",
    "YTM_FILEPATH = \"/workspaces/ytmusic_analytics/data/watch-history.json\""
   ]
  },
  {
   "cell_type": "code",
   "execution_count": 39,
   "id": "21baaa18",
   "metadata": {},
   "outputs": [],
   "source": [
    "try:\n",
    "    data = duckdb.read_json(YTM_FILEPATH)\n",
    "except FileNotFoundError as e:\n",
    "    print(f\"File not found: {YTM_FILEPATH}. Please ensure the file exists.\")\n",
    "except Exception as e:\n",
    "    print(f\"An unexpected error occurred: {e}\")"
   ]
  },
  {
   "cell_type": "code",
   "execution_count": 40,
   "id": "7261988d",
   "metadata": {},
   "outputs": [
    {
     "data": {
      "text/plain": [
       "┌─────────┬───────────────┬────────────────────────────────────────────────────────────────────────────────────────────────────────────────────────────────────────────────────────────────────────────────────────────────────────────────────────────────────────────────────────┬───────────────────────────────────────────────┬────────────────────────────────────────────────────────────────────────────────────────────────────────────────────────────┬──────────────────────────┬───────────┬─────────────────────────────────────────────┬─────────────────────┬─────────────────────────────┐\n",
       "│  aggr   │    header     │                                                                                                                         title                                                                                                                          │                   titleUrl                    │                                                         subtitles                                                          │           time           │ products  │              activityControls               │     description     │           details           │\n",
       "│ varchar │    varchar    │                                                                                                                        varchar                                                                                                                         │                    varchar                    │                                                          varchar                                                           │         varchar          │  varchar  │                   varchar                   │       varchar       │           varchar           │\n",
       "├─────────┼───────────────┼────────────────────────────────────────────────────────────────────────────────────────────────────────────────────────────────────────────────────────────────────────────────────────────────────────────────────────────────────────────────────────┼───────────────────────────────────────────────┼────────────────────────────────────────────────────────────────────────────────────────────────────────────────────────────┼──────────────────────────┼───────────┼─────────────────────────────────────────────┼─────────────────────┼─────────────────────────────┤\n",
       "│ count   │ 17634         │ 17634                                                                                                                                                                                                                                                  │ 17634                                         │ 17039                                                                                                                      │ 17634                    │ 17634     │ 17634                                       │ 81                  │ 87                          │\n",
       "│ mean    │ NULL          │ NULL                                                                                                                                                                                                                                                   │ NULL                                          │ NULL                                                                                                                       │ NULL                     │ NULL      │ NULL                                        │ NULL                │ NULL                        │\n",
       "│ stddev  │ NULL          │ NULL                                                                                                                                                                                                                                                   │ NULL                                          │ NULL                                                                                                                       │ NULL                     │ NULL      │ NULL                                        │ NULL                │ NULL                        │\n",
       "│ min     │ YouTube       │ Viewed Join preeminent mindfulness teachers Tara Brach, Jack Kornfield, Konda Mason, and Devin Berry in four free guided audio meditations for cultivating an open, all-embracing, unconditionally loving heart.\\n\\nhttps://tbrach.com/FreeMeditations │ https://music.youtube.com/watch?v=--drZa0zQis │ [{'name':  الأقصى لمفاتيح السياراتautomotive locksmith , 'url': https://www.youtube.com/channel/UCaiRs8UBPyEa5pX2UmCEiTw}] │ 2016-12-17T21:40:57.624Z │ [YouTube] │ [Web & App Activity, YouTube watch history] │ Watched at 10:03 AM │ [{'name': From Google Ads}] │\n",
       "│ max     │ YouTube Music │ Watched 🥬 Lettuce - Phyllis by Lettuce (Official Music Video)                                                                                                                                                                                         │ https://www.youtube.com/watch?v=zzliu_-xNNQ   │ [{'name': Ｓoｕnｄ Ｓtａtｉoｎ, 'url': https://www.youtube.com/channel/UCYEHmdbqplsuMrZEv6wXOcg}]                          │ 2025-03-12T20:48:31.336Z │ [YouTube] │ [YouTube watch history]                     │ Watched at 9:58 AM  │ [{'name': From Google Ads}] │\n",
       "│ median  │ NULL          │ NULL                                                                                                                                                                                                                                                   │ NULL                                          │ NULL                                                                                                                       │ NULL                     │ NULL      │ NULL                                        │ NULL                │ NULL                        │\n",
       "└─────────┴───────────────┴────────────────────────────────────────────────────────────────────────────────────────────────────────────────────────────────────────────────────────────────────────────────────────────────────────────────────────────────────────────────────────┴───────────────────────────────────────────────┴────────────────────────────────────────────────────────────────────────────────────────────────────────────────────────────┴──────────────────────────┴───────────┴─────────────────────────────────────────────┴─────────────────────┴─────────────────────────────┘"
      ]
     },
     "execution_count": 40,
     "metadata": {},
     "output_type": "execute_result"
    }
   ],
   "source": [
    "data.describe()"
   ]
  },
  {
   "cell_type": "code",
   "execution_count": 41,
   "id": "eb361f81",
   "metadata": {},
   "outputs": [],
   "source": [
    "# Create table\n",
    "q = \"\"\"\n",
    "CREATE OR REPLACE TABLE watch_history_clean AS\n",
    "SELECT\n",
    "  header,\n",
    "  CASE\n",
    "    WHEN title LIKE 'Watched %'\n",
    "      THEN substr(title, length('Watched ')+1)\n",
    "    ELSE title\n",
    "  END AS title,\n",
    "  titleUrl,\n",
    "  subtitles,\n",
    "  CAST(\"time\" AS TIMESTAMP) AS ts,\n",
    "  products,\n",
    "  activityControls,\n",
    "  description,\n",
    "  details\n",
    "FROM data;\n",
    "\"\"\"\n",
    "\n",
    "duckdb.sql(q)"
   ]
  },
  {
   "cell_type": "code",
   "execution_count": 42,
   "id": "eeb9a479",
   "metadata": {},
   "outputs": [
    {
     "name": "stdout",
     "output_type": "stream",
     "text": [
      "┌───────────────┬──────────────────────────────────────────┬───────────────────────────────────────────────┬───────────────────────────────────────────────────────────────────────────────────────────────────────────────┬─────────────────────────┬───────────┬─────────────────────────┬─────────────┬──────────────────────────┐\n",
      "│    header     │                  title                   │                   titleUrl                    │                                                   subtitles                                                   │           ts            │ products  │    activityControls     │ description │         details          │\n",
      "│    varchar    │                 varchar                  │                    varchar                    │                                     struct(\"name\" varchar, url varchar)[]                                     │        timestamp        │ varchar[] │        varchar[]        │   varchar   │ struct(\"name\" varchar)[] │\n",
      "├───────────────┼──────────────────────────────────────────┼───────────────────────────────────────────────┼───────────────────────────────────────────────────────────────────────────────────────────────────────────────┼─────────────────────────┼───────────┼─────────────────────────┼─────────────┼──────────────────────────┤\n",
      "│ YouTube Music │ Animal Forest                            │ https://music.youtube.com/watch?v=evelBm4iAEY │ [{'name': DJ Okawari - Topic, 'url': https://www.youtube.com/channel/UCJqe44UWvLb6tdU1kgGEjzw}]               │ 2025-03-12 20:48:31.336 │ [YouTube] │ [YouTube watch history] │ NULL        │ NULL                     │\n",
      "│ YouTube Music │ As The Deer (Instrumental)               │ https://music.youtube.com/watch?v=NZ72GZLVGAQ │ [{'name': Maranatha! Instrumental - Topic, 'url': https://www.youtube.com/channel/UCoU2mLaz024oaQNyzuwfueg}]  │ 2025-03-12 20:45:03.381 │ [YouTube] │ [YouTube watch history] │ NULL        │ NULL                     │\n",
      "│ YouTube Music │ Clear Language                           │ https://music.youtube.com/watch?v=CEF5yO1LedM │ [{'name': Balmorhea - Topic, 'url': https://www.youtube.com/channel/UCEj5pI0oi-7YA-4fGJnCRgA}]                │ 2025-03-12 20:41:50.015 │ [YouTube] │ [YouTube watch history] │ NULL        │ NULL                     │\n",
      "│ YouTube Music │ X                                        │ https://music.youtube.com/watch?v=Isljk-VZanc │ [{'name': Sufjan Stevens - Topic, 'url': https://www.youtube.com/channel/UC5sOhxfts379lOCXaIAinyw}]           │ 2025-03-12 20:38:07.905 │ [YouTube] │ [YouTube watch history] │ NULL        │ NULL                     │\n",
      "│ YouTube Music │ I                                        │ https://music.youtube.com/watch?v=-pEWgpDRw6E │ [{'name': Sufjan Stevens - Topic, 'url': https://www.youtube.com/channel/UC5sOhxfts379lOCXaIAinyw}]           │ 2025-03-12 20:34:31.291 │ [YouTube] │ [YouTube watch history] │ NULL        │ NULL                     │\n",
      "│ YouTube Music │ Tipper - Relish The Trough               │ https://music.youtube.com/watch?v=60Wz14rPis0 │ [{'name': Tippermusic, 'url': https://www.youtube.com/channel/UCRNYMDBXBW9t0rjuGpJltlA}]                      │ 2025-03-12 20:34:26.732 │ [YouTube] │ [YouTube watch history] │ NULL        │ NULL                     │\n",
      "│ YouTube Music │ Satellite                                │ https://music.youtube.com/watch?v=KCffKIZV82w │ [{'name': Rise Against - Topic, 'url': https://www.youtube.com/channel/UCNEOs26SV8KlC9XxqdR7jew}]             │ 2025-03-12 20:17:53.777 │ [YouTube] │ [YouTube watch history] │ NULL        │ NULL                     │\n",
      "│ YouTube Music │ Prayer Of The Refugee                    │ https://music.youtube.com/watch?v=DL4UoSXwaKM │ [{'name': Rise Against - Topic, 'url': https://www.youtube.com/channel/UCNEOs26SV8KlC9XxqdR7jew}]             │ 2025-03-12 20:14:33.55  │ [YouTube] │ [YouTube watch history] │ NULL        │ NULL                     │\n",
      "│ YouTube Music │ Savior                                   │ https://music.youtube.com/watch?v=vbMh38KGZMM │ [{'name': Rise Against - Topic, 'url': https://www.youtube.com/channel/UCNEOs26SV8KlC9XxqdR7jew}]             │ 2025-03-12 20:14:21.119 │ [YouTube] │ [YouTube watch history] │ NULL        │ NULL                     │\n",
      "│ YouTube Music │ Dirty Little Secret                      │ https://music.youtube.com/watch?v=CBQsLKcLeUU │ [{'name': The All-American Rejects - Topic, 'url': https://www.youtube.com/channel/UCIo16EqSZ0A4HXA-kf5rSuQ}] │ 2025-03-12 20:11:07.52  │ [YouTube] │ [YouTube watch history] │ NULL        │ NULL                     │\n",
      "│       ·       │          ·                               │                       ·                       │                                                ·                                                              │           ·             │     ·     │            ·            │  ·          │  ·                       │\n",
      "│       ·       │          ·                               │                       ·                       │                                                ·                                                              │           ·             │     ·     │            ·            │  ·          │  ·                       │\n",
      "│       ·       │          ·                               │                       ·                       │                                                ·                                                              │           ·             │     ·     │            ·            │  ·          │  ·                       │\n",
      "│ YouTube Music │ Losfer Words (Big 'Orra) (2015 Remaster) │ https://music.youtube.com/watch?v=4DrjwpI7PPc │ [{'name': Iron Maiden - Topic, 'url': https://www.youtube.com/channel/UC0zbzp6x7zR8u0LhanNWFyw}]              │ 2025-03-09 14:48:37.226 │ [YouTube] │ [YouTube watch history] │ NULL        │ NULL                     │\n",
      "│ YouTube Music │ 2 Minutes to Midnight (2015 Remaster)    │ https://music.youtube.com/watch?v=wBzFgGn8g2Y │ [{'name': Iron Maiden - Topic, 'url': https://www.youtube.com/channel/UC0zbzp6x7zR8u0LhanNWFyw}]              │ 2025-03-09 14:36:16.432 │ [YouTube] │ [YouTube watch history] │ NULL        │ NULL                     │\n",
      "│ YouTube Music │ Aces High (2015 Remaster)                │ https://music.youtube.com/watch?v=PAvJpxhxcfg │ [{'name': Iron Maiden - Topic, 'url': https://www.youtube.com/channel/UC0zbzp6x7zR8u0LhanNWFyw}]              │ 2025-03-09 14:31:43.941 │ [YouTube] │ [YouTube watch history] │ NULL        │ NULL                     │\n",
      "│ YouTube Music │ Artificial                               │ https://music.youtube.com/watch?v=MpxdW0ZP-As │ [{'name': Moaning - Topic, 'url': https://www.youtube.com/channel/UCLi-IaexT-K_W-C-qHRONqg}]                  │ 2025-03-09 14:28:50.865 │ [YouTube] │ [YouTube watch history] │ NULL        │ NULL                     │\n",
      "│ YouTube Music │ Nuke the Whales                          │ https://music.youtube.com/watch?v=4E6RFT23pcw │ [{'name': Double Ferrari - Topic, 'url': https://www.youtube.com/channel/UCTNPBKp4w0uxtyRgRMJAbgA}]           │ 2025-03-09 14:25:24.54  │ [YouTube] │ [YouTube watch history] │ NULL        │ NULL                     │\n",
      "│ YouTube Music │ Triumph Fatigue                          │ https://music.youtube.com/watch?v=3jab7EwCL7M │ [{'name': Double Ferrari - Topic, 'url': https://www.youtube.com/channel/UCTNPBKp4w0uxtyRgRMJAbgA}]           │ 2025-03-09 14:19:18.588 │ [YouTube] │ [YouTube watch history] │ NULL        │ NULL                     │\n",
      "│ YouTube Music │ Temple of Ramone                         │ https://music.youtube.com/watch?v=PqA9gZOPFVI │ [{'name': Double Ferrari - Topic, 'url': https://www.youtube.com/channel/UCTNPBKp4w0uxtyRgRMJAbgA}]           │ 2025-03-09 14:17:28.64  │ [YouTube] │ [YouTube watch history] │ NULL        │ NULL                     │\n",
      "│ YouTube Music │ Challenger                               │ https://music.youtube.com/watch?v=EqxbEASaSY4 │ [{'name': Double Ferrari - Topic, 'url': https://www.youtube.com/channel/UCTNPBKp4w0uxtyRgRMJAbgA}]           │ 2025-03-09 14:15:50.429 │ [YouTube] │ [YouTube watch history] │ NULL        │ NULL                     │\n",
      "│ YouTube Music │ Melted Tongue                            │ https://music.youtube.com/watch?v=fKuHWIu1iL4 │ [{'name': Double Ferrari - Topic, 'url': https://www.youtube.com/channel/UCTNPBKp4w0uxtyRgRMJAbgA}]           │ 2025-03-09 14:10:48.304 │ [YouTube] │ [YouTube watch history] │ NULL        │ NULL                     │\n",
      "│ YouTube Music │ Thumbs up Molten Steel                   │ https://music.youtube.com/watch?v=CqSDNEIKYpE │ [{'name': Double Ferrari - Topic, 'url': https://www.youtube.com/channel/UCTNPBKp4w0uxtyRgRMJAbgA}]           │ 2025-03-09 14:07:32.286 │ [YouTube] │ [YouTube watch history] │ NULL        │ NULL                     │\n",
      "├───────────────┴──────────────────────────────────────────┴───────────────────────────────────────────────┴───────────────────────────────────────────────────────────────────────────────────────────────────────────────┴─────────────────────────┴───────────┴─────────────────────────┴─────────────┴──────────────────────────┤\n",
      "│ 100 rows (20 shown)                                                                                                                                                                                                                                                                                                     9 columns │\n",
      "└───────────────────────────────────────────────────────────────────────────────────────────────────────────────────────────────────────────────────────────────────────────────────────────────────────────────────────────────────────────────────────────────────────────────────────────────────────────────────────────────────┘\n",
      "\n"
     ]
    }
   ],
   "source": [
    "# Validate\n",
    "q = \"\"\"SELECT * \n",
    "FROM watch_history_clean\n",
    "LIMIT 100\"\"\"\n",
    "r = duckdb.sql(q)\n",
    "r.show()"
   ]
  },
  {
   "cell_type": "code",
   "execution_count": 43,
   "id": "f129175d",
   "metadata": {},
   "outputs": [
    {
     "name": "stdout",
     "output_type": "stream",
     "text": [
      "Row count before removal: 17634\n",
      "Rows identified for removal: 87\n",
      "Rows removed expected: 87\n",
      "Rows removed actual: 87\n",
      "Rows after removal: 17547\n"
     ]
    }
   ],
   "source": [
    "# Query to count rows before removal\n",
    "row_count_before_query = \"\"\"\n",
    "SELECT COUNT(*)\n",
    "FROM watch_history_clean\n",
    "\"\"\"\n",
    "\n",
    "row_count_before = duckdb.sql(row_count_before_query).fetchone()[0]\n",
    "print(f\"Row count before removal: {row_count_before}\")\n",
    "\n",
    "# Query to identify rows to be removed\n",
    "count_rows_with_ads_query = \"\"\"\n",
    "SELECT COUNT(*) AS before_count\n",
    "FROM watch_history_clean\n",
    "WHERE len(details) = 1\n",
    "  AND details[1].name = 'From Google Ads';\n",
    "\"\"\"\n",
    "\n",
    "ad_rows_to_be_removed = duckdb.sql(count_rows_with_ads_query).fetchone()[0]\n",
    "print(f\"Rows identified for removal: {ad_rows_to_be_removed}\")\n",
    "\n",
    "# Query to delete the matching ads from the table\n",
    "remove_ads_query = \"\"\"\n",
    "DELETE FROM watch_history_clean\n",
    "WHERE len(details) = 1\n",
    "  AND details[1].name = 'From Google Ads';\n",
    "\"\"\"\n",
    "\n",
    "# Execute the deletion\n",
    "duckdb.sql(remove_ads_query)\n",
    "\n",
    "# Query to count rows after removal\n",
    "count_after_removal_query = \"\"\"\n",
    "SELECT COUNT(*) AS after_count\n",
    "FROM watch_history_clean\n",
    "\"\"\"\n",
    "\n",
    "row_count_after = duckdb.sql(count_after_removal_query).fetchone()[0]\n",
    "\n",
    "# Calculate the number of rows removed\n",
    "rows_removed_actual = row_count_before - row_count_after\n",
    "\n",
    "# Output the results\n",
    "print(f\"Rows removed expected: {ad_rows_to_be_removed}\")\n",
    "print(f\"Rows removed actual: {rows_removed_actual}\")\n",
    "print(f\"Rows after removal: {row_count_after}\")\n"
   ]
  },
  {
   "cell_type": "code",
   "execution_count": 44,
   "id": "4413fe51",
   "metadata": {},
   "outputs": [],
   "source": [
    "# Create 2025 table\n",
    "q = \"\"\"\n",
    "CREATE OR REPLACE TABLE yt_music_history_2025 AS\n",
    "SELECT\n",
    "  ROW_NUMBER() OVER (ORDER BY ts)      AS id,\n",
    "  title                                  AS song_title,\n",
    "  --Trim topic\n",
    "  IF(\n",
    "    -- check if the last 8 chars are ' - Topic'\n",
    "    subtitles[1].name[-8:] = ' - Topic',\n",
    "    -- if so, drop those 8 chars\n",
    "    subtitles[1].name[:-8],\n",
    "    -- otherwise leave untouched\n",
    "    subtitles[1].name) \t\t\t\t\t AS song_artist,\n",
    "  CAST(ts AS TIMESTAMP)                  AS listened_ts,\n",
    "  titleUrl                               AS youtube_url\n",
    "FROM watch_history_clean\n",
    "WHERE ts >= '2025-01-01'\n",
    "and \"header\" = 'YouTube Music'\"\"\"\n",
    "\n",
    "duckdb.sql(q)\n"
   ]
  },
  {
   "cell_type": "code",
   "execution_count": 45,
   "id": "0a4684b1",
   "metadata": {},
   "outputs": [
    {
     "name": "stdout",
     "output_type": "stream",
     "text": [
      "┌───────┬───────────────────────────────────────────────────┬──────────────────┬─────────────────────────┬───────────────────────────────────────────────┐\n",
      "│  id   │                    song_title                     │   song_artist    │       listened_ts       │                  youtube_url                  │\n",
      "│ int64 │                      varchar                      │     varchar      │        timestamp        │                    varchar                    │\n",
      "├───────┼───────────────────────────────────────────────────┼──────────────────┼─────────────────────────┼───────────────────────────────────────────────┤\n",
      "│     1 │ Hades II - The Crossroads                         │ Supergiant Games │ 2025-01-01 22:48:14.432 │ https://music.youtube.com/watch?v=f5-XklYU0Xw │\n",
      "│     2 │ Hades II - Lost Souls                             │ Supergiant Games │ 2025-01-01 22:52:39.603 │ https://music.youtube.com/watch?v=VhPausM5MOs │\n",
      "│     3 │ Hades II - Spider Silk                            │ Supergiant Games │ 2025-01-01 22:59:15.367 │ https://music.youtube.com/watch?v=kySox79Mh-I │\n",
      "│     4 │ Hades II - Crossed Flames                         │ Supergiant Games │ 2025-01-01 23:01:33.25  │ https://music.youtube.com/watch?v=aE1PbwJ9h64 │\n",
      "│     5 │ Hades II - The Silver Sisters                     │ Supergiant Games │ 2025-01-01 23:07:33.32  │ https://music.youtube.com/watch?v=_ewYEPzjjKY │\n",
      "│     6 │ Hades II -  Song of the Sirens                    │ Supergiant Games │ 2025-01-01 23:10:20.329 │ https://music.youtube.com/watch?v=P4S7EaXozXw │\n",
      "│     7 │ Hades II -  Coral Crown                           │ Supergiant Games │ 2025-01-01 23:16:55.568 │ https://music.youtube.com/watch?v=N7QSavYWEE0 │\n",
      "│     8 │ Hades II - Time Cannot Be Stopped                 │ Supergiant Games │ 2025-01-01 23:21:02.455 │ https://music.youtube.com/watch?v=HLJwgE2hg_Y │\n",
      "│     9 │ Hades II -  Sightless Shepherd (feat. Sam Gendel) │ Supergiant Games │ 2025-01-01 23:21:16.135 │ https://music.youtube.com/watch?v=mqng4Szbb2c │\n",
      "│    10 │ Hades II -  Final Expense (Renegade Remix)        │ Supergiant Games │ 2025-01-01 23:27:54.669 │ https://music.youtube.com/watch?v=N6L45MPCXiQ │\n",
      "│     · │               ·                                   │        ·         │            ·            │                       ·                       │\n",
      "│     · │               ·                                   │        ·         │            ·            │                       ·                       │\n",
      "│     · │               ·                                   │        ·         │            ·            │                       ·                       │\n",
      "│    91 │ Hades II -  Song of the Sirens                    │ Supergiant Games │ 2025-01-07 20:39:34.868 │ https://music.youtube.com/watch?v=P4S7EaXozXw │\n",
      "│    92 │ Hades II -  Coral Crown                           │ Supergiant Games │ 2025-01-07 20:46:10.296 │ https://music.youtube.com/watch?v=N7QSavYWEE0 │\n",
      "│    93 │ Hades II - Time Cannot Be Stopped                 │ Supergiant Games │ 2025-01-07 20:50:17.065 │ https://music.youtube.com/watch?v=HLJwgE2hg_Y │\n",
      "│    94 │ Hades II -  Sightless Shepherd (feat. Sam Gendel) │ Supergiant Games │ 2025-01-07 20:50:30.605 │ https://music.youtube.com/watch?v=mqng4Szbb2c │\n",
      "│    95 │ Silver Lining                                     │ Kacey Musgraves  │ 2025-01-08 14:08:41.236 │ https://music.youtube.com/watch?v=R5NSb-Obnas │\n",
      "│    96 │ My House                                          │ Kacey Musgraves  │ 2025-01-08 14:12:32.892 │ https://music.youtube.com/watch?v=v7OPPYQ-Svg │\n",
      "│    97 │ Merry Go 'Round                                   │ Kacey Musgraves  │ 2025-01-08 14:15:13.42  │ https://music.youtube.com/watch?v=zfXR0E5PO_E │\n",
      "│    98 │ Dandelion                                         │ Kacey Musgraves  │ 2025-01-08 14:18:40.363 │ https://music.youtube.com/watch?v=gdAsEpPgC5A │\n",
      "│    99 │ Blowin' Smoke                                     │ Kacey Musgraves  │ 2025-01-08 14:21:42.749 │ https://music.youtube.com/watch?v=4i8WNoI3M8s │\n",
      "│   100 │ I Miss You                                        │ Kacey Musgraves  │ 2025-01-08 14:24:51.16  │ https://music.youtube.com/watch?v=yekRj3c99Ms │\n",
      "├───────┴───────────────────────────────────────────────────┴──────────────────┴─────────────────────────┴───────────────────────────────────────────────┤\n",
      "│ 100 rows (20 shown)                                                                                                                          5 columns │\n",
      "└────────────────────────────────────────────────────────────────────────────────────────────────────────────────────────────────────────────────────────┘\n",
      "\n"
     ]
    }
   ],
   "source": [
    "# Validate\n",
    "q = \"\"\"SELECT *\n",
    "FROM yt_music_history_2025\n",
    "LIMIT 100\"\"\"\n",
    "\n",
    "r = duckdb.sql(q)\n",
    "r.show()"
   ]
  }
 ],
 "metadata": {
  "kernelspec": {
   "display_name": "Python 3",
   "language": "python",
   "name": "python3"
  },
  "language_info": {
   "codemirror_mode": {
    "name": "ipython",
    "version": 3
   },
   "file_extension": ".py",
   "mimetype": "text/x-python",
   "name": "python",
   "nbconvert_exporter": "python",
   "pygments_lexer": "ipython3",
   "version": "3.13.3"
  }
 },
 "nbformat": 4,
 "nbformat_minor": 5
}
