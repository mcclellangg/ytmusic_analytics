{
 "cells": [
  {
   "cell_type": "code",
   "execution_count": null,
   "id": "c3548b13",
   "metadata": {},
   "outputs": [],
   "source": [
    "import duckdb\n",
    "\n",
    "# Ensure data has been added to expected directory as per README instructions\n",
    "YTM_FILEPATH = \"/workspaces/ytmusic_analytics/data/watch-history.json\""
   ]
  },
  {
   "cell_type": "code",
   "execution_count": null,
   "id": "21baaa18",
   "metadata": {},
   "outputs": [],
   "source": [
    "try:\n",
    "    data = duckdb.read_json(YTM_FILEPATH)\n",
    "except FileNotFoundError as e:\n",
    "    print(f\"File not found: {YTM_FILEPATH}. Please ensure the file exists.\")\n",
    "except Exception as e:\n",
    "    print(f\"An unexpected error occurred: {e}\")"
   ]
  },
  {
   "cell_type": "code",
   "execution_count": null,
   "id": "7261988d",
   "metadata": {},
   "outputs": [],
   "source": [
    "data.describe()"
   ]
  },
  {
   "cell_type": "code",
   "execution_count": 24,
   "id": "eb361f81",
   "metadata": {},
   "outputs": [],
   "source": [
    "# Create table\n",
    "q = \"\"\"\n",
    "CREATE OR REPLACE TABLE watch_history_clean AS\n",
    "SELECT\n",
    "  header,\n",
    "  CASE\n",
    "    WHEN title LIKE 'Watched %'\n",
    "      THEN substr(title, length('Watched ')+1)\n",
    "    ELSE title\n",
    "  END AS title,\n",
    "  titleUrl,\n",
    "  subtitles,\n",
    "  CAST(\"time\" AS TIMESTAMP) AS ts,\n",
    "  products,\n",
    "  activityControls,\n",
    "  description,\n",
    "  details\n",
    "FROM data;\n",
    "\"\"\"\n",
    "\n",
    "duckdb.sql(q)"
   ]
  },
  {
   "cell_type": "code",
   "execution_count": null,
   "id": "eeb9a479",
   "metadata": {},
   "outputs": [],
   "source": [
    "# Validate\n",
    "q = \"\"\"SELECT * \n",
    "FROM watch_history_clean\n",
    "LIMIT 100\"\"\"\n",
    "r = duckdb.sql(q)\n",
    "r.show()"
   ]
  },
  {
   "cell_type": "code",
   "execution_count": null,
   "id": "f129175d",
   "metadata": {},
   "outputs": [],
   "source": [
    "# Remove ads\n",
    "# TODO: clean this up\n",
    "ads_to_remove_q = \"\"\"\n",
    "SELECT COUNT(*) as before_count\n",
    "FROM watch_history_clean\n",
    "WHERE len(details) = 1\n",
    "  AND details[1].name = 'From Google Ads';\n",
    "\"\"\"\n",
    "\n",
    "ads_to_remove_r = duckdb.sql(ads_to_remove_q)\n",
    "\n",
    "print(f\"Ads to remove: {ads_to_remove_q}\")\n",
    "\n",
    "remove_ads_q = \"\"\"\n",
    "DELETE FROM watch_history_clean\n",
    "WHERE len(details) = 1\n",
    "  AND details[1].name = 'From Google Ads';\n",
    "\"\"\"\n",
    "duckdb.sql(remove_ads_q)\n",
    "\n",
    "ads_removed = duckdb.sql(\"\"\"\n",
    "SELECT COUNT(*) AS after_count\n",
    "FROM watch_history_clean\n",
    "WHERE len(details) = 1\n",
    "  AND details[1].name = 'From Google Ads';\n",
    "\"\"\")\n",
    "\n",
    "print(f\"Number ads removed: {ads_removed}\")"
   ]
  },
  {
   "cell_type": "code",
   "execution_count": 37,
   "id": "4413fe51",
   "metadata": {},
   "outputs": [],
   "source": [
    "# Create 2025 table\n",
    "q = \"\"\"\n",
    "CREATE OR REPLACE TABLE yt_music_history_2025 AS\n",
    "SELECT\n",
    "  ROW_NUMBER() OVER (ORDER BY ts)      AS id,\n",
    "  title                                  AS song_title,\n",
    "  --Trim topic\n",
    "  IF(\n",
    "    -- check if the last 8 chars are ' - Topic'\n",
    "    subtitles[1].name[-8:] = ' - Topic',\n",
    "    -- if so, drop those 8 chars\n",
    "    subtitles[1].name[:-8],\n",
    "    -- otherwise leave untouched\n",
    "    subtitles[1].name) \t\t\t\t\t AS song_artist,\n",
    "  CAST(ts AS TIMESTAMP)                  AS listened_ts,\n",
    "  titleUrl                               AS youtube_url\n",
    "FROM watch_history_clean\n",
    "WHERE ts >= '2025-01-01'\n",
    "and \"header\" = 'YouTube Music'\"\"\"\n",
    "\n",
    "duckdb.sql(q)\n"
   ]
  },
  {
   "cell_type": "code",
   "execution_count": null,
   "id": "0a4684b1",
   "metadata": {},
   "outputs": [],
   "source": [
    "# Validate\n",
    "q = \"\"\"SELECT *\n",
    "FROM yt_music_history_2025\n",
    "LIMIT 100\"\"\"\n",
    "\n",
    "r = duckdb.sql(q)\n",
    "r.show()"
   ]
  }
 ],
 "metadata": {
  "kernelspec": {
   "display_name": "Python 3",
   "language": "python",
   "name": "python3"
  },
  "language_info": {
   "codemirror_mode": {
    "name": "ipython",
    "version": 3
   },
   "file_extension": ".py",
   "mimetype": "text/x-python",
   "name": "python",
   "nbconvert_exporter": "python",
   "pygments_lexer": "ipython3",
   "version": "3.13.3"
  }
 },
 "nbformat": 4,
 "nbformat_minor": 5
}
