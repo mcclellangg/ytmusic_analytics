{
 "cells": [
  {
   "cell_type": "code",
   "execution_count": null,
   "id": "c3548b13",
   "metadata": {},
   "outputs": [],
   "source": [
    "import duckdb\n",
    "import os\n",
    "\n",
    "# Ensure data has been added to expected directory as per README instructions\n",
    "DATA_DIR = \"/workspaces/ytmusic_analytics/data/\"\n",
    "YTM_FILENAME = \"watch-history.json\"\n",
    "YTM_FILEPATH = os.path.join(DATA_DIR, YTM_FILENAME)"
   ]
  },
  {
   "cell_type": "code",
   "execution_count": null,
   "id": "21baaa18",
   "metadata": {},
   "outputs": [],
   "source": [
    "try:\n",
    "    data = duckdb.read_json(YTM_FILEPATH)\n",
    "except FileNotFoundError as e:\n",
    "    print(f\"File not found: {YTM_FILEPATH}. Please ensure the file exists.\")\n",
    "except Exception as e:\n",
    "    print(f\"An unexpected error occurred: {e}\")"
   ]
  },
  {
   "cell_type": "code",
   "execution_count": null,
   "id": "7261988d",
   "metadata": {},
   "outputs": [],
   "source": [
    "data.describe()"
   ]
  },
  {
   "cell_type": "code",
   "execution_count": null,
   "id": "eb361f81",
   "metadata": {},
   "outputs": [],
   "source": [
    "# Create table\n",
    "q = \"\"\"\n",
    "CREATE OR REPLACE TABLE watch_history_clean AS\n",
    "SELECT\n",
    "  header,\n",
    "  CASE\n",
    "    WHEN title LIKE 'Watched %'\n",
    "      THEN substr(title, length('Watched ')+1)\n",
    "    ELSE title\n",
    "  END AS title,\n",
    "  titleUrl,\n",
    "  subtitles,\n",
    "  CAST(\"time\" AS TIMESTAMP) AS ts,\n",
    "  products,\n",
    "  activityControls,\n",
    "  description,\n",
    "  details\n",
    "FROM data;\n",
    "\"\"\"\n",
    "\n",
    "duckdb.sql(q)"
   ]
  },
  {
   "cell_type": "code",
   "execution_count": null,
   "id": "eeb9a479",
   "metadata": {},
   "outputs": [],
   "source": [
    "# Validate\n",
    "q = \"\"\"SELECT * \n",
    "FROM watch_history_clean\n",
    "LIMIT 100\"\"\"\n",
    "r = duckdb.sql(q)\n",
    "r.show()"
   ]
  },
  {
   "cell_type": "code",
   "execution_count": null,
   "id": "f129175d",
   "metadata": {},
   "outputs": [],
   "source": [
    "# Query to count rows before removal\n",
    "row_count_before_query = \"\"\"\n",
    "SELECT COUNT(*)\n",
    "FROM watch_history_clean\n",
    "\"\"\"\n",
    "\n",
    "row_count_before = duckdb.sql(row_count_before_query).fetchone()[0]\n",
    "print(f\"Row count before removal: {row_count_before}\")\n",
    "\n",
    "# Query to identify rows to be removed\n",
    "count_rows_with_ads_query = \"\"\"\n",
    "SELECT COUNT(*) AS before_count\n",
    "FROM watch_history_clean\n",
    "WHERE len(details) = 1\n",
    "  AND details[1].name = 'From Google Ads';\n",
    "\"\"\"\n",
    "\n",
    "ad_rows_to_be_removed = duckdb.sql(count_rows_with_ads_query).fetchone()[0]\n",
    "print(f\"Rows identified for removal: {ad_rows_to_be_removed}\")\n",
    "\n",
    "# Query to delete the matching ads from the table\n",
    "remove_ads_query = \"\"\"\n",
    "DELETE FROM watch_history_clean\n",
    "WHERE len(details) = 1\n",
    "  AND details[1].name = 'From Google Ads';\n",
    "\"\"\"\n",
    "\n",
    "# Execute the deletion\n",
    "duckdb.sql(remove_ads_query)\n",
    "\n",
    "# Query to count rows after removal\n",
    "count_after_removal_query = \"\"\"\n",
    "SELECT COUNT(*) AS after_count\n",
    "FROM watch_history_clean\n",
    "\"\"\"\n",
    "\n",
    "row_count_after = duckdb.sql(count_after_removal_query).fetchone()[0]\n",
    "\n",
    "# Calculate the number of rows removed\n",
    "rows_removed_actual = row_count_before - row_count_after\n",
    "\n",
    "# Output the results\n",
    "print(f\"Rows removed expected: {ad_rows_to_be_removed}\")\n",
    "print(f\"Rows removed actual: {rows_removed_actual}\")\n",
    "print(f\"Rows after removal: {row_count_after}\")\n"
   ]
  },
  {
   "cell_type": "code",
   "execution_count": null,
   "id": "4413fe51",
   "metadata": {},
   "outputs": [],
   "source": [
    "# Create 2025 table\n",
    "q = \"\"\"\n",
    "CREATE OR REPLACE TABLE yt_music_history_2025 AS\n",
    "SELECT\n",
    "  ROW_NUMBER() OVER (ORDER BY ts)      AS id,\n",
    "  title                                  AS song_title,\n",
    "  --Trim topic\n",
    "  IF(\n",
    "    -- check if the last 8 chars are ' - Topic'\n",
    "    subtitles[1].name[-8:] = ' - Topic',\n",
    "    -- if so, drop those 8 chars\n",
    "    subtitles[1].name[:-8],\n",
    "    -- otherwise leave untouched\n",
    "    subtitles[1].name) \t\t\t\t\t AS song_artist,\n",
    "  CAST(ts AS TIMESTAMP)                  AS listened_ts,\n",
    "  titleUrl                               AS youtube_url\n",
    "FROM watch_history_clean\n",
    "WHERE ts >= '2025-01-01'\n",
    "and \"header\" = 'YouTube Music'\"\"\"\n",
    "\n",
    "duckdb.sql(q)\n"
   ]
  },
  {
   "cell_type": "code",
   "execution_count": null,
   "id": "0a4684b1",
   "metadata": {},
   "outputs": [],
   "source": [
    "# Validate\n",
    "q = \"\"\"SELECT *\n",
    "FROM yt_music_history_2025\n",
    "LIMIT 100\"\"\"\n",
    "\n",
    "r = duckdb.sql(q)\n",
    "r.show()"
   ]
  },
  {
   "cell_type": "code",
   "execution_count": null,
   "id": "a7821acd",
   "metadata": {},
   "outputs": [],
   "source": [
    "# Write report to csv\n",
    "output_file_name = \"ytm_hist_2025.csv\"\n",
    "output_file_path = os.path.join(DATA_DIR, output_file_name)\n",
    "print(output_file_path)\n",
    "\n",
    "q = \"\"\"SELECT *\n",
    "FROM yt_music_history_2025\n",
    "\"\"\"\n",
    "\n",
    "duckdb.sql(q).write_csv(output_file_path)"
   ]
  }
 ],
 "metadata": {
  "kernelspec": {
   "display_name": "Python 3",
   "language": "python",
   "name": "python3"
  },
  "language_info": {
   "codemirror_mode": {
    "name": "ipython",
    "version": 3
   },
   "file_extension": ".py",
   "mimetype": "text/x-python",
   "name": "python",
   "nbconvert_exporter": "python",
   "pygments_lexer": "ipython3",
   "version": "3.13.3"
  }
 },
 "nbformat": 4,
 "nbformat_minor": 5
}
